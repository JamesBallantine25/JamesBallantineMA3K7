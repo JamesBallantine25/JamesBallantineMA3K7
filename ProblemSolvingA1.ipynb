{
 "cells": [
  {
   "cell_type": "code",
   "execution_count": 1,
   "id": "57481520-9c51-4f82-a910-25893c0a8100",
   "metadata": {},
   "outputs": [
    {
     "name": "stdout",
     "output_type": "stream",
     "text": [
      "6\n",
      "1\n",
      "7\n",
      "8\n",
      "5\n",
      "3\n",
      "8\n",
      "1\n",
      "9\n",
      "0\n",
      "9\n",
      "9\n",
      "8\n",
      "7\n",
      "5\n",
      "2\n",
      "7\n",
      "9\n",
      "6\n",
      "5\n",
      "1\n",
      "6\n",
      "7\n",
      "3\n",
      "0\n",
      "3\n",
      "3\n",
      "6\n",
      "9\n",
      "5\n",
      "4\n",
      "9\n",
      "3\n",
      "2\n",
      "5\n",
      "7\n",
      "2\n",
      "9\n",
      "1\n",
      "0\n",
      "1\n",
      "1\n",
      "2\n",
      "3\n",
      "5\n",
      "8\n",
      "3\n",
      "1\n",
      "4\n",
      "5\n",
      "9\n",
      "4\n",
      "3\n",
      "7\n",
      "0\n",
      "7\n",
      "7\n",
      "4\n",
      "1\n",
      "5\n"
     ]
    }
   ],
   "source": [
    "n = 1\n",
    "mod = 10\n",
    "\n",
    "i = 1\n",
    "j = 5\n",
    "\n",
    "while n<=60:\n",
    "    k = i + j \n",
    "    l = k % mod\n",
    "    print(l)\n",
    "    i = j\n",
    "    j = k\n",
    "    n+=1"
   ]
  },
  {
   "cell_type": "code",
   "execution_count": null,
   "id": "5bf168b8-05dc-4312-ae24-82c71473ba6c",
   "metadata": {},
   "outputs": [],
   "source": []
  },
  {
   "cell_type": "code",
   "execution_count": null,
   "id": "776706f4-d848-4205-812c-b00dfefe65f2",
   "metadata": {},
   "outputs": [],
   "source": []
  }
 ],
 "metadata": {
  "kernelspec": {
   "display_name": "Python 3 (ipykernel)",
   "language": "python",
   "name": "python3"
  },
  "language_info": {
   "codemirror_mode": {
    "name": "ipython",
    "version": 3
   },
   "file_extension": ".py",
   "mimetype": "text/x-python",
   "name": "python",
   "nbconvert_exporter": "python",
   "pygments_lexer": "ipython3",
   "version": "3.9.7"
  }
 },
 "nbformat": 4,
 "nbformat_minor": 5
}
